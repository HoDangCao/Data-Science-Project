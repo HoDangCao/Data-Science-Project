{
 "cells": [
  {
   "cell_type": "code",
   "execution_count": 1,
   "metadata": {},
   "outputs": [],
   "source": [
    "from bs4 import BeautifulSoup\n",
    "from selenium import webdriver\n",
    "from selenium.webdriver.common.by import By\n",
    "import re\n",
    "import numpy as np"
   ]
  },
  {
   "cell_type": "code",
   "execution_count": 2,
   "metadata": {},
   "outputs": [
    {
     "name": "stderr",
     "output_type": "stream",
     "text": [
      "C:\\Users\\ACER\\AppData\\Local\\Temp\\ipykernel_4808\\3190910617.py:1: DeprecationWarning: executable_path has been deprecated, please pass in a Service object\n",
      "  browser = webdriver.Chrome(executable_path=\"../chromedriver_win32/chromedriver.exe\")\n"
     ]
    }
   ],
   "source": [
    "browser = webdriver.Chrome(executable_path=\"../chromedriver_win32/chromedriver.exe\")"
   ]
  },
  {
   "cell_type": "code",
   "execution_count": 3,
   "metadata": {},
   "outputs": [],
   "source": [
    "browser.get(\"https://danso.org/the-gioi/\")\n",
    "browser.implicitly_wait(20)\n",
    "browser.minimize_window()"
   ]
  },
  {
   "cell_type": "code",
   "execution_count": 4,
   "metadata": {},
   "outputs": [],
   "source": [
    "html_text = BeautifulSoup(browser.page_source, \"html.parser\")\n",
    "links = html_text.find_all('h3')[:56]"
   ]
  },
  {
   "cell_type": "code",
   "execution_count": 5,
   "metadata": {},
   "outputs": [
    {
     "name": "stdout",
     "output_type": "stream",
     "text": [
      "['https://danso.org/bermuda/', 'https://danso.org/canada/', 'https://danso.org/greenland/', 'https://danso.org/hoa-ky/', 'https://danso.org/saint-pierre-va-miquelon/', 'https://danso.org/a-rap-xe-ut/', 'https://danso.org/afghanistan/', 'https://danso.org/an-do/', 'https://danso.org/armenia/', 'https://danso.org/azerbaijan/', 'https://danso.org/bahrain/', 'https://danso.org/bangladesh/', 'https://danso.org/bhutan/', 'https://danso.org/brunei/', 'https://danso.org/cac-tieu-vuong-quoc-a-rap-thong-nhat/', 'https://danso.org/campuchia/', 'https://danso.org/cong-hoa-sip/', 'https://danso.org/dai-loan/', 'https://danso.org/dong-timo/', 'https://danso.org/georgia/', 'https://danso.org/han-quoc/', 'https://danso.org/hong-kong/', 'https://danso.org/indonesia/', 'https://danso.org/iran/', 'https://danso.org/iraq/', 'https://danso.org/israel/', 'https://danso.org/jordan/', 'https://danso.org/kazakhstan/', 'https://danso.org/kuwait/', 'https://danso.org/kyrgyzstan/', 'https://danso.org/lao/', 'https://danso.org/lebanon/', 'https://danso.org/ma-cao/', 'https://danso.org/malaysia/', 'https://danso.org/maldives/', 'https://danso.org/mong-co/', 'https://danso.org/myanmar/', 'https://danso.org/nepal/', 'https://danso.org/nhat-ban/', 'https://danso.org/oman/', 'https://danso.org/pakistan/', 'https://danso.org/palestine/', 'https://danso.org/philippines/', 'https://danso.org/qatar/', 'https://danso.org/singapore/', 'https://danso.org/sri-lanka/', 'https://danso.org/syria/', 'https://danso.org/tajikistan/', 'https://danso.org/thai-lan/', 'https://danso.org/tho-nhi-ky/', 'https://danso.org/trieu-tien/', 'https://danso.org/trung-quoc/', 'https://danso.org/turkmenistan/', 'https://danso.org/uzbekistan/', 'https://danso.org/viet-nam/', 'https://danso.org/yemen/']\n"
     ]
    }
   ],
   "source": [
    "link_list=[]\n",
    "for link in links:\n",
    "    link_list+=re.findall(\"<a href=\\\"([\\w.:/-]+)\\\">\",str(link))\n",
    "print(link_list)"
   ]
  },
  {
   "cell_type": "code",
   "execution_count": 6,
   "metadata": {},
   "outputs": [],
   "source": [
    "all_countries={} #keys: countries' names; values: population of countries\n",
    "for link in link_list:\n",
    "    # print(link)\n",
    "    country_name = re.findall('/([\\w-]+)/',str(link))[0]\n",
    "    all_countries[country_name]=[]\n",
    "\n",
    "    browser.get(link)\n",
    "    browser.implicitly_wait(20)\n",
    "    browser.minimize_window()\n",
    "\n",
    "    html_text = BeautifulSoup(browser.page_source, \"html.parser\")\n",
    "    lines = html_text.find_all('tr',{'role':'row'})[1:20]\n",
    "    \n",
    "    for line in lines:\n",
    "        line = re.findall('>([\\d,-N.A]+)<',str(line))\n",
    "\n",
    "        if len(line)!=0:\n",
    "            all_countries[country_name].append(line)\n",
    "  "
   ]
  },
  {
   "cell_type": "code",
   "execution_count": null,
   "metadata": {},
   "outputs": [
    {
     "ename": "",
     "evalue": "",
     "output_type": "error",
     "traceback": [
      "\u001b[1;31mFailed to start the Kernel. \n",
      "\u001b[1;31mUnable to start Kernel 'Python 3.10.7 64-bit' due to connection timeout. \n",
      "\u001b[1;31mView Jupyter <a href='command:jupyter.viewOutput'>log</a> for further details."
     ]
    }
   ],
   "source": [
    "all_countries"
   ]
  },
  {
   "cell_type": "code",
   "execution_count": null,
   "metadata": {},
   "outputs": [
    {
     "ename": "",
     "evalue": "",
     "output_type": "error",
     "traceback": [
      "\u001b[1;31mFailed to start the Kernel. \n",
      "\u001b[1;31mUnable to start Kernel 'Python 3.10.7 64-bit' due to connection timeout. \n",
      "\u001b[1;31mView Jupyter <a href='command:jupyter.viewOutput'>log</a> for further details."
     ]
    }
   ],
   "source": [
    "# browser.quit()"
   ]
  }
 ],
 "metadata": {
  "kernelspec": {
   "display_name": "Python 3.10.7 64-bit",
   "language": "python",
   "name": "python3"
  },
  "language_info": {
   "codemirror_mode": {
    "name": "ipython",
    "version": 3
   },
   "file_extension": ".py",
   "mimetype": "text/x-python",
   "name": "python",
   "nbconvert_exporter": "python",
   "pygments_lexer": "ipython3",
   "version": "3.10.7"
  },
  "orig_nbformat": 4,
  "vscode": {
   "interpreter": {
    "hash": "0d72b21489300652f2337cd7f80c57cc00ce6bbc92cf98d285c178d0a8ced433"
   }
  }
 },
 "nbformat": 4,
 "nbformat_minor": 2
}
