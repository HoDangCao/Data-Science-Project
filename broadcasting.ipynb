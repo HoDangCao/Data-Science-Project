{
 "cells": [
  {
   "cell_type": "code",
   "execution_count": 1,
   "metadata": {},
   "outputs": [],
   "source": [
    "from bs4 import BeautifulSoup\n",
    "from selenium import webdriver\n",
    "from selenium.webdriver.common.by import By\n",
    "import re\n",
    "import pandas as pd\n",
    "import numpy as np\n",
    "import matplotlib.pyplot  as plt "
   ]
  },
  {
   "cell_type": "code",
   "execution_count": 48,
   "metadata": {},
   "outputs": [
    {
     "name": "stderr",
     "output_type": "stream",
     "text": [
      "C:\\Users\\84868\\AppData\\Local\\Temp\\ipykernel_14440\\693349573.py:1: DeprecationWarning: executable_path has been deprecated, please pass in a Service object\n",
      "  browser = webdriver.Chrome(executable_path=\"chromedriver.exe\")\n"
     ]
    },
    {
     "ename": "SessionNotCreatedException",
     "evalue": "Message: session not created: This version of ChromeDriver only supports Chrome version 106\nCurrent browser version is 108.0.5359.125 with binary path C:\\Program Files\\Google\\Chrome\\Application\\chrome.exe\nStacktrace:\nBacktrace:\n\tOrdinal0 [0x00271ED3+2236115]\n\tOrdinal0 [0x002092F1+1807089]\n\tOrdinal0 [0x001166FD+812797]\n\tOrdinal0 [0x00138C6D+953453]\n\tOrdinal0 [0x00134200+934400]\n\tOrdinal0 [0x001319C9+924105]\n\tOrdinal0 [0x0016806C+1146988]\n\tOrdinal0 [0x00167A6A+1145450]\n\tOrdinal0 [0x001618A6+1120422]\n\tOrdinal0 [0x0013A73D+960317]\n\tOrdinal0 [0x0013B71F+964383]\n\tGetHandleVerifier [0x0051E7E2+2743074]\n\tGetHandleVerifier [0x005108D4+2685972]\n\tGetHandleVerifier [0x00302BAA+532202]\n\tGetHandleVerifier [0x00301990+527568]\n\tOrdinal0 [0x0021080C+1837068]\n\tOrdinal0 [0x00214CD8+1854680]\n\tOrdinal0 [0x00214DC5+1854917]\n\tOrdinal0 [0x0021ED64+1895780]\n\tBaseThreadInitThunk [0x77257D69+25]\n\tRtlInitializeExceptionChain [0x7783BB9B+107]\n\tRtlClearBits [0x7783BB1F+191]\n\t(No symbol) [0x00000000]\n",
     "output_type": "error",
     "traceback": [
      "\u001b[1;31m---------------------------------------------------------------------------\u001b[0m",
      "\u001b[1;31mSessionNotCreatedException\u001b[0m                Traceback (most recent call last)",
      "Cell \u001b[1;32mIn [48], line 1\u001b[0m\n\u001b[1;32m----> 1\u001b[0m browser \u001b[39m=\u001b[39m webdriver\u001b[39m.\u001b[39;49mChrome(executable_path\u001b[39m=\u001b[39;49m\u001b[39m\"\u001b[39;49m\u001b[39mchromedriver.exe\u001b[39;49m\u001b[39m\"\u001b[39;49m)\n\u001b[0;32m      2\u001b[0m browser \u001b[39m=\u001b[39m webdriver\u001b[39m.\u001b[39mChrome()\n\u001b[0;32m      3\u001b[0m browser\u001b[39m.\u001b[39mget(\u001b[39m\"\u001b[39m\u001b[39mhttps://danso.org/the-gioi/\u001b[39m\u001b[39m\"\u001b[39m)\n",
      "File \u001b[1;32md:\\Anaconda\\lib\\site-packages\\selenium\\webdriver\\chrome\\webdriver.py:69\u001b[0m, in \u001b[0;36mWebDriver.__init__\u001b[1;34m(self, executable_path, port, options, service_args, desired_capabilities, service_log_path, chrome_options, service, keep_alive)\u001b[0m\n\u001b[0;32m     66\u001b[0m \u001b[39mif\u001b[39;00m \u001b[39mnot\u001b[39;00m service:\n\u001b[0;32m     67\u001b[0m     service \u001b[39m=\u001b[39m Service(executable_path, port, service_args, service_log_path)\n\u001b[1;32m---> 69\u001b[0m \u001b[39msuper\u001b[39;49m()\u001b[39m.\u001b[39;49m\u001b[39m__init__\u001b[39;49m(DesiredCapabilities\u001b[39m.\u001b[39;49mCHROME[\u001b[39m'\u001b[39;49m\u001b[39mbrowserName\u001b[39;49m\u001b[39m'\u001b[39;49m], \u001b[39m\"\u001b[39;49m\u001b[39mgoog\u001b[39;49m\u001b[39m\"\u001b[39;49m,\n\u001b[0;32m     70\u001b[0m                  port, options,\n\u001b[0;32m     71\u001b[0m                  service_args, desired_capabilities,\n\u001b[0;32m     72\u001b[0m                  service_log_path, service, keep_alive)\n",
      "File \u001b[1;32md:\\Anaconda\\lib\\site-packages\\selenium\\webdriver\\chromium\\webdriver.py:92\u001b[0m, in \u001b[0;36mChromiumDriver.__init__\u001b[1;34m(self, browser_name, vendor_prefix, port, options, service_args, desired_capabilities, service_log_path, service, keep_alive)\u001b[0m\n\u001b[0;32m     89\u001b[0m \u001b[39mself\u001b[39m\u001b[39m.\u001b[39mservice\u001b[39m.\u001b[39mstart()\n\u001b[0;32m     91\u001b[0m \u001b[39mtry\u001b[39;00m:\n\u001b[1;32m---> 92\u001b[0m     \u001b[39msuper\u001b[39;49m()\u001b[39m.\u001b[39;49m\u001b[39m__init__\u001b[39;49m(\n\u001b[0;32m     93\u001b[0m         command_executor\u001b[39m=\u001b[39;49mChromiumRemoteConnection(\n\u001b[0;32m     94\u001b[0m             remote_server_addr\u001b[39m=\u001b[39;49m\u001b[39mself\u001b[39;49m\u001b[39m.\u001b[39;49mservice\u001b[39m.\u001b[39;49mservice_url,\n\u001b[0;32m     95\u001b[0m             browser_name\u001b[39m=\u001b[39;49mbrowser_name, vendor_prefix\u001b[39m=\u001b[39;49mvendor_prefix,\n\u001b[0;32m     96\u001b[0m             keep_alive\u001b[39m=\u001b[39;49mkeep_alive, ignore_proxy\u001b[39m=\u001b[39;49m_ignore_proxy),\n\u001b[0;32m     97\u001b[0m         options\u001b[39m=\u001b[39;49moptions)\n\u001b[0;32m     98\u001b[0m \u001b[39mexcept\u001b[39;00m \u001b[39mException\u001b[39;00m:\n\u001b[0;32m     99\u001b[0m     \u001b[39mself\u001b[39m\u001b[39m.\u001b[39mquit()\n",
      "File \u001b[1;32md:\\Anaconda\\lib\\site-packages\\selenium\\webdriver\\remote\\webdriver.py:272\u001b[0m, in \u001b[0;36mWebDriver.__init__\u001b[1;34m(self, command_executor, desired_capabilities, browser_profile, proxy, keep_alive, file_detector, options)\u001b[0m\n\u001b[0;32m    270\u001b[0m \u001b[39mself\u001b[39m\u001b[39m.\u001b[39m_authenticator_id \u001b[39m=\u001b[39m \u001b[39mNone\u001b[39;00m\n\u001b[0;32m    271\u001b[0m \u001b[39mself\u001b[39m\u001b[39m.\u001b[39mstart_client()\n\u001b[1;32m--> 272\u001b[0m \u001b[39mself\u001b[39;49m\u001b[39m.\u001b[39;49mstart_session(capabilities, browser_profile)\n",
      "File \u001b[1;32md:\\Anaconda\\lib\\site-packages\\selenium\\webdriver\\remote\\webdriver.py:364\u001b[0m, in \u001b[0;36mWebDriver.start_session\u001b[1;34m(self, capabilities, browser_profile)\u001b[0m\n\u001b[0;32m    362\u001b[0m w3c_caps \u001b[39m=\u001b[39m _make_w3c_caps(capabilities)\n\u001b[0;32m    363\u001b[0m parameters \u001b[39m=\u001b[39m {\u001b[39m\"\u001b[39m\u001b[39mcapabilities\u001b[39m\u001b[39m\"\u001b[39m: w3c_caps}\n\u001b[1;32m--> 364\u001b[0m response \u001b[39m=\u001b[39m \u001b[39mself\u001b[39;49m\u001b[39m.\u001b[39;49mexecute(Command\u001b[39m.\u001b[39;49mNEW_SESSION, parameters)\n\u001b[0;32m    365\u001b[0m \u001b[39mif\u001b[39;00m \u001b[39m'\u001b[39m\u001b[39msessionId\u001b[39m\u001b[39m'\u001b[39m \u001b[39mnot\u001b[39;00m \u001b[39min\u001b[39;00m response:\n\u001b[0;32m    366\u001b[0m     response \u001b[39m=\u001b[39m response[\u001b[39m'\u001b[39m\u001b[39mvalue\u001b[39m\u001b[39m'\u001b[39m]\n",
      "File \u001b[1;32md:\\Anaconda\\lib\\site-packages\\selenium\\webdriver\\remote\\webdriver.py:429\u001b[0m, in \u001b[0;36mWebDriver.execute\u001b[1;34m(self, driver_command, params)\u001b[0m\n\u001b[0;32m    427\u001b[0m response \u001b[39m=\u001b[39m \u001b[39mself\u001b[39m\u001b[39m.\u001b[39mcommand_executor\u001b[39m.\u001b[39mexecute(driver_command, params)\n\u001b[0;32m    428\u001b[0m \u001b[39mif\u001b[39;00m response:\n\u001b[1;32m--> 429\u001b[0m     \u001b[39mself\u001b[39;49m\u001b[39m.\u001b[39;49merror_handler\u001b[39m.\u001b[39;49mcheck_response(response)\n\u001b[0;32m    430\u001b[0m     response[\u001b[39m'\u001b[39m\u001b[39mvalue\u001b[39m\u001b[39m'\u001b[39m] \u001b[39m=\u001b[39m \u001b[39mself\u001b[39m\u001b[39m.\u001b[39m_unwrap_value(\n\u001b[0;32m    431\u001b[0m         response\u001b[39m.\u001b[39mget(\u001b[39m'\u001b[39m\u001b[39mvalue\u001b[39m\u001b[39m'\u001b[39m, \u001b[39mNone\u001b[39;00m))\n\u001b[0;32m    432\u001b[0m     \u001b[39mreturn\u001b[39;00m response\n",
      "File \u001b[1;32md:\\Anaconda\\lib\\site-packages\\selenium\\webdriver\\remote\\errorhandler.py:243\u001b[0m, in \u001b[0;36mErrorHandler.check_response\u001b[1;34m(self, response)\u001b[0m\n\u001b[0;32m    241\u001b[0m         alert_text \u001b[39m=\u001b[39m value[\u001b[39m'\u001b[39m\u001b[39malert\u001b[39m\u001b[39m'\u001b[39m]\u001b[39m.\u001b[39mget(\u001b[39m'\u001b[39m\u001b[39mtext\u001b[39m\u001b[39m'\u001b[39m)\n\u001b[0;32m    242\u001b[0m     \u001b[39mraise\u001b[39;00m exception_class(message, screen, stacktrace, alert_text)  \u001b[39m# type: ignore[call-arg]  # mypy is not smart enough here\u001b[39;00m\n\u001b[1;32m--> 243\u001b[0m \u001b[39mraise\u001b[39;00m exception_class(message, screen, stacktrace)\n",
      "\u001b[1;31mSessionNotCreatedException\u001b[0m: Message: session not created: This version of ChromeDriver only supports Chrome version 106\nCurrent browser version is 108.0.5359.125 with binary path C:\\Program Files\\Google\\Chrome\\Application\\chrome.exe\nStacktrace:\nBacktrace:\n\tOrdinal0 [0x00271ED3+2236115]\n\tOrdinal0 [0x002092F1+1807089]\n\tOrdinal0 [0x001166FD+812797]\n\tOrdinal0 [0x00138C6D+953453]\n\tOrdinal0 [0x00134200+934400]\n\tOrdinal0 [0x001319C9+924105]\n\tOrdinal0 [0x0016806C+1146988]\n\tOrdinal0 [0x00167A6A+1145450]\n\tOrdinal0 [0x001618A6+1120422]\n\tOrdinal0 [0x0013A73D+960317]\n\tOrdinal0 [0x0013B71F+964383]\n\tGetHandleVerifier [0x0051E7E2+2743074]\n\tGetHandleVerifier [0x005108D4+2685972]\n\tGetHandleVerifier [0x00302BAA+532202]\n\tGetHandleVerifier [0x00301990+527568]\n\tOrdinal0 [0x0021080C+1837068]\n\tOrdinal0 [0x00214CD8+1854680]\n\tOrdinal0 [0x00214DC5+1854917]\n\tOrdinal0 [0x0021ED64+1895780]\n\tBaseThreadInitThunk [0x77257D69+25]\n\tRtlInitializeExceptionChain [0x7783BB9B+107]\n\tRtlClearBits [0x7783BB1F+191]\n\t(No symbol) [0x00000000]\n"
     ]
    }
   ],
   "source": [
    "browser = webdriver.Chrome(executable_path=\"chromedriver.exe\")\n",
    "browser = webdriver.Chrome()\n",
    "browser.get(\"https://danso.org/the-gioi/\")\n",
    "browser.implicitly_wait(20)\n",
    "browser.minimize_window()"
   ]
  },
  {
   "cell_type": "code",
   "execution_count": null,
   "metadata": {},
   "outputs": [],
   "source": [
    "html_text = BeautifulSoup(browser.page_source, \"html.parser\")\n",
    "links = html_text.find_all('h3')[:56]"
   ]
  },
  {
   "cell_type": "code",
   "execution_count": null,
   "metadata": {},
   "outputs": [],
   "source": [
    "link_list=[]\n",
    "for link in links:\n",
    "    link_list+=re.findall(\"<a href=\\\"([\\w.:/-]+)\\\">\",str(link))"
   ]
  },
  {
   "cell_type": "code",
   "execution_count": null,
   "metadata": {},
   "outputs": [],
   "source": [
    "all_countries={} #keys: countries' names; values: population of countries\n",
    "with open(\"data.tsv\",'w') as f:\n",
    "    f.write(\"Country\\tYear\\tPopulation\\tChange\\tMigrate\\tUrban_resident\\n\")\n",
    "    for link in link_list:\n",
    "        # print(link)\n",
    "        country_name = re.findall('/([\\w-]+)/',str(link))[0]\n",
    "        # all_countries[country_name]=[]\n",
    "\n",
    "        browser.get(link)\n",
    "        browser.implicitly_wait(20)\n",
    "        browser.minimize_window()\n",
    "\n",
    "        html_text = BeautifulSoup(browser.page_source, \"html.parser\")\n",
    "        lines = html_text.find_all('tr',{'role':'row'})[1:20]\n",
    "        \n",
    "        # print(len(lines[0]))\n",
    "        for line in lines:\n",
    "            line = re.findall('>([\\d,-N.A]+)<',str(line))\n",
    "            if len(line) == 10:\n",
    "                line = line[:2] + line[3:5] +line[6:7]\n",
    "            else:\n",
    "                line = line[:2] + line[3:5] + line[9:10]\n",
    "\n",
    "            if len(line)!=0:\n",
    "                f.writelines(country_name + '\\t')\n",
    "                # all_countries[country_name].append(line)\n",
    "                for i in range(len(line)):\n",
    "                    f.writelines(line[i]+'\\t')\n",
    "                f.write('\\n')\n",
    "  "
   ]
  },
  {
   "cell_type": "markdown",
   "metadata": {},
   "source": [
    "## DATA  EXPLORATIONS\n"
   ]
  },
  {
   "cell_type": "markdown",
   "metadata": {},
   "source": [
    " ### How many  rows and columns   does the data  have ?"
   ]
  },
  {
   "cell_type": "code",
   "execution_count": 5,
   "metadata": {},
   "outputs": [],
   "source": [
    "countries={}\n",
    "with open(\"data.tsv\") as f:\n",
    "    lines=f.read().split('\\n')\n",
    "    \n",
    "    keys = lines[0].split('\\t')\n",
    "    for key in keys:\n",
    "            countries[key]=[]\n",
    "    \n",
    "    for line in lines[1:-1]:\n",
    "        line = line.split('\\t')\n",
    "        \n",
    "        #add 8 charistics in each lines to each key\n",
    "        for i in range(len(keys)):\n",
    "            countries[keys[i]].append((line[i]))"
   ]
  },
  {
   "cell_type": "code",
   "execution_count": 6,
   "metadata": {},
   "outputs": [],
   "source": [
    "df=pd.DataFrame(countries)"
   ]
  },
  {
   "cell_type": "code",
   "execution_count": 7,
   "metadata": {},
   "outputs": [
    {
     "name": "stdout",
     "output_type": "stream",
     "text": [
      "The data have:  1008 rowls\n",
      "The data have:  6 columns\n",
      "The columns are: ['Country', 'Year', 'Population', 'Change', 'Migrate', 'Urban_resident']\n"
     ]
    }
   ],
   "source": [
    "Num_rows = len(countries[keys[1]])\n",
    "Num_cols=len(keys)\n",
    "print(\"The data have: \",Num_rows,\"rowls\")\n",
    "print(\"The data have: \",Num_cols, \"columns\")\n",
    "# Duy fix\n",
    "print(f\"The columns are: {list(df.columns)}\")"
   ]
  },
  {
   "cell_type": "markdown",
   "metadata": {},
   "source": [
    "### What does the data columns mean ?"
   ]
  },
  {
   "cell_type": "markdown",
   "metadata": {},
   "source": [
    "- Country : Names of countries \n",
    "- Year: Display of years    \n",
    "- Population: Number of people by year\n",
    "- Change: Number of population changes \n",
    "- Migrate: Number of migrants \n",
    "- urban_resident: Number of people living in urban areas  "
   ]
  },
  {
   "cell_type": "markdown",
   "metadata": {},
   "source": [
    "### What data type  does each columns  currently have? Is there  a columns  with a data type that is not  suitable  foe further processing "
   ]
  },
  {
   "cell_type": "markdown",
   "metadata": {},
   "source": [
    "- Columns \"Country\": string is  a valid  data type\n",
    "- Columns \" Year\" , \"Population\" , \"Change\",\" Migrate\":  data type current is string , we wil  change from string data type to int \n",
    "- The Urban_resident column has an inappropriate value (N.A). Since in those countries there is 100% urban population, we will assign N.A to the population of that country for the year. Finally convert the values in the column to int data type."
   ]
  },
  {
   "cell_type": "code",
   "execution_count": 8,
   "metadata": {},
   "outputs": [],
   "source": [
    "for i in range(Num_rows):\n",
    "    if df.Urban_resident[i]==\"N.A.\":\n",
    "        df.Urban_resident[i]=df.Population[i]\n",
    "df.Urban_resident=df.Urban_resident.apply(lambda x: x.replace(\".\",''))\n",
    "df.Urban_resident=df.Urban_resident.apply(lambda x: int(x))\n",
    "df.Year = df.Year.apply(lambda x : int(x))\n",
    "df.Population=df.Population.apply(lambda x: x.replace(\".\",''))\n",
    "df.Population=df.Population.apply(lambda x: int(x))\n",
    "df.Change=df.Change.apply(lambda x: x.replace(\".\",''))\n",
    "df.Change=df.Change.apply(lambda x: int(x))\n",
    "df.Migrate=df.Migrate.apply(lambda x: x.replace(\".\",''))\n",
    "df.Migrate=df.Migrate.apply(lambda x: int(x))"
   ]
  },
  {
   "cell_type": "markdown",
   "metadata": {},
   "source": [
    "- In the Country column , We have 56 countries in North America and Asia"
   ]
  },
  {
   "cell_type": "code",
   "execution_count": 9,
   "metadata": {},
   "outputs": [
    {
     "name": "stdout",
     "output_type": "stream",
     "text": [
      "Name Country:\n",
      "bermuda,  canada,  greenland,  hoa-ky,  saint-pierre-va-miquelon,  a-rap-xe-ut,  afghanistan,  an-do,  armenia,  azerbaijan,  bahrain,  bangladesh,  bhutan,  brunei,  cac-tieu-vuong-quoc-a-rap-thong-nhat,  campuchia,  cong-hoa-sip,  dai-loan,  dong-timo,  georgia,  han-quoc,  hong-kong,  indonesia,  iran,  iraq,  israel,  jordan,  kazakhstan,  kuwait,  kyrgyzstan,  lao,  lebanon,  ma-cao,  malaysia,  maldives,  mong-co,  myanmar,  nepal,  nhat-ban,  oman,  pakistan,  palestine,  philippines,  qatar,  singapore,  sri-lanka,  syria,  tajikistan,  thai-lan,  tho-nhi-ky,  trieu-tien,  trung-quoc,  turkmenistan,  uzbekistan,  viet-nam,  yemen,  "
     ]
    }
   ],
   "source": [
    "Country_array=df.Country.unique()\n",
    "print(\"Name Country:\")\n",
    "for i in Country_array:\n",
    "    print( f'{i},  ' , end='')\n"
   ]
  },
  {
   "cell_type": "markdown",
   "metadata": {},
   "source": [
    "- Data distribution table of columns Population , Change , Migrare , Urban_resident\n",
    "- In the Migrate column , there are negative and positive values . Negative value indicates the migrant countries. Positive value indicates the immigrant countries\n",
    "- In the Change column , there are negative and positive values. Negative value indicates that the country's population decreases.Positive value indicates that the country's population increases year by year."
   ]
  },
  {
   "cell_type": "code",
   "execution_count": 10,
   "metadata": {},
   "outputs": [
    {
     "data": {
      "image/png": "[encoded data removed]",
      "text/plain": [
       "<Figure size 1700x500 with 4 Axes>"
      ]
     },
     "metadata": {},
     "output_type": "display_data"
    }
   ],
   "source": [
    "Arrat=df.drop(\"Country\",axis=1)\n",
    "Arrat=Arrat.drop(\"Year\",axis=1)\n",
    "fig , axs=plt.subplots(1, len(Arrat.columns), figsize=(17,5))\n",
    "for i , ax in enumerate(axs.flat):\n",
    "    ax.hist(Arrat.iloc[:,i] )\n",
    "    ax.set_title(Arrat.columns[i],fontsize=20,fontweight='bold')\n",
    "    ax.semilogy()\n",
    "plt.tight_layout()\n",
    "\n"
   ]
  },
  {
   "cell_type": "markdown",
   "metadata": {},
   "source": [
    "-  In the Year column, there are years from 1995 to 2020 and the father is not the same \n",
    "- Example from 1955 to 2015, Each data update is 5 years apart. And from 2015 to 2020 they are only 1 year apart."
   ]
  },
  {
   "cell_type": "code",
   "execution_count": 11,
   "metadata": {},
   "outputs": [
    {
     "data": {
      "image/png": "[encoded data removed]",
      "text/plain": [
       "<Figure size 640x480 with 1 Axes>"
      ]
     },
     "metadata": {},
     "output_type": "display_data"
    }
   ],
   "source": [
    "year_arr=df.Year.unique()\n",
    "plt.boxplot(year_arr)\n",
    "plt.show()"
   ]
  },
  {
   "cell_type": "markdown",
   "metadata": {},
   "source": [
    "### Data explor countinue ??"
   ]
  },
  {
   "cell_type": "markdown",
   "metadata": {},
   "source": [
    "-  Which are immigrant countries and migrant countries"
   ]
  },
  {
   "cell_type": "code",
   "execution_count": 12,
   "metadata": {},
   "outputs": [
    {
     "name": "stdout",
     "output_type": "stream",
     "text": [
      "Migrant countries:                0\n",
      "0    afghanistan\n",
      "1          an-do\n",
      "2        armenia\n",
      "3     azerbaijan\n",
      "4     bangladesh\n",
      "5         bhutan\n",
      "6      campuchia\n",
      "7      dong-timo\n",
      "8        georgia\n",
      "9      indonesia\n",
      "10          iraq\n",
      "11    kazakhstan\n",
      "12    kyrgyzstan\n",
      "13           lao\n",
      "14       mong-co\n",
      "15       myanmar\n",
      "16         nepal\n",
      "17      pakistan\n",
      "18     palestine\n",
      "19   philippines\n",
      "20     sri-lanka\n",
      "21         syria\n",
      "22    tajikistan\n",
      "23    trieu-tien\n",
      "24    trung-quoc\n",
      "25  turkmenistan\n",
      "26    uzbekistan\n",
      "27      viet-nam\n",
      "28         yemen\n",
      "\n",
      "\n",
      "Immigrant countries:                                        0\n",
      "0                            a-rap-xe-ut\n",
      "1                                bahrain\n",
      "2                                bermuda\n",
      "3                                 brunei\n",
      "4   cac-tieu-vuong-quoc-a-rap-thong-nhat\n",
      "5                                 canada\n",
      "6                           cong-hoa-sip\n",
      "7                               dai-loan\n",
      "8                               han-quoc\n",
      "9                                 hoa-ky\n",
      "10                             hong-kong\n",
      "11                                  iran\n",
      "12                                israel\n",
      "13                                jordan\n",
      "14                                kuwait\n",
      "15                               lebanon\n",
      "16                                ma-cao\n",
      "17                              malaysia\n",
      "18                              maldives\n",
      "19                              nhat-ban\n",
      "20                                  oman\n",
      "21                                 qatar\n",
      "22              saint-pierre-va-miquelon\n",
      "23                             singapore\n",
      "24                              thai-lan\n",
      "25                            tho-nhi-ky\n"
     ]
    }
   ],
   "source": [
    "Check=df.groupby('Country').mean()\n",
    "size=len(Check.index)\n",
    "Migrant_countries=[]\n",
    "Immigrant_countries=[]\n",
    "print(\"Migrant countries: \", end =\"\")\n",
    "for i in range(size):\n",
    "    if(Check.Migrate[i] < 0):\n",
    "        # print(f\"{Check.index[i]},\",end=\" \")\n",
    "        Migrant_countries.append(Check.index[i])\n",
    "\n",
    "migrantCountries = pd.DataFrame(Migrant_countries)\n",
    "print(migrantCountries)\n",
    "\n",
    "print(\"\\n\")\n",
    "print(\"Immigrant countries: \", end =\"\")\n",
    "for i in range(size):\n",
    "    if(Check.Migrate[i] > 0):\n",
    "        # print(f\"{Check.index[i]},\",end=\" \")\n",
    "        Immigrant_countries.append(Check.index[i])\n",
    "\n",
    "immigrantCountries = pd.DataFrame(Immigrant_countries)\n",
    "print(immigrantCountries)\n"
   ]
  },
  {
   "cell_type": "markdown",
   "metadata": {},
   "source": [
    "- Migration rate of countries in the region over the year => Find top 3 immigrant/migrant countries"
   ]
  },
  {
   "cell_type": "code",
   "execution_count": 13,
   "metadata": {},
   "outputs": [
    {
     "name": "stdout",
     "output_type": "stream",
     "text": [
      "Top 3 Immigrant countries:\n",
      "                                             TB\n",
      "Country                                        \n",
      "qatar                                 30.756632\n",
      "cac-tieu-vuong-quoc-a-rap-thong-nhat  30.201535\n",
      "bermuda                               20.000191\n",
      "\n",
      "\n",
      "Top 3 Migrant countries:\n",
      "                    TB\n",
      "Country               \n",
      "afghanistan  -4.504909\n",
      "palestine    -7.939633\n",
      "syria       -11.242004\n"
     ]
    }
   ],
   "source": [
    "KQ=[0 for i in range(1008)]\n",
    "Migrant_DTF=df.loc[df.Country==Country_array[0],[\"Country\",\"Population\",\"Migrate\"]]\n",
    "for i in range(1,len(Country_array)):\n",
    "    temp=df.loc[df.Country==Country_array[i],[\"Country\",\"Population\",\"Migrate\"]]\n",
    "    Migrant_DTF= pd.concat([Migrant_DTF,temp])  \n",
    "Migrant_DTF.index=range(1,len(Migrant_DTF)+1)\n",
    "for i in range(1,len(Migrant_DTF)):\n",
    "    KQ[i-1]=(Migrant_DTF.Migrate[i] / Migrant_DTF.Population[i] )*1000\n",
    "KQ_dict=pd.DataFrame(data=KQ,columns=['TB'])\n",
    "KQ_dict.index=range(1,len(KQ_dict)+1)\n",
    "Migrant_DTF= pd.concat([Migrant_DTF,KQ_dict],axis=1) \n",
    "Migrant_DTF=Migrant_DTF.drop('Population',axis=1)\n",
    "Migrant_DTF=Migrant_DTF.drop('Migrate',axis=1)\n",
    "Migrant_DTF=Migrant_DTF.groupby('Country').mean()\n",
    "Migrant_DTF=Migrant_DTF.sort_values(\"TB\",ascending=False)\n",
    "print(\"Top 3 Immigrant countries:\")\n",
    "print(Migrant_DTF.head(3))\n",
    "print('\\n')\n",
    "print(\"Top 3 Migrant countries:\")\n",
    "print(Migrant_DTF.tail(3))"
   ]
  },
  {
   "cell_type": "markdown",
   "metadata": {},
   "source": [
    "- Average population growth rate of countries from 1955 to 2020 year"
   ]
  },
  {
   "cell_type": "code",
   "execution_count": 14,
   "metadata": {},
   "outputs": [
    {
     "name": "stdout",
     "output_type": "stream",
     "text": [
      "                    Country  Average Population growth rate\n",
      "0                   bermuda                        2.727246\n",
      "1                    canada                        5.660972\n",
      "2                 greenland                        4.906293\n",
      "3                    hoa-ky                        4.319774\n",
      "4  saint-pierre-va-miquelon                        1.475380\n"
     ]
    }
   ],
   "source": [
    "Grow_rate=[]\n",
    "for i in Country_array:\n",
    "    total=0\n",
    "    Temp_array=df.loc[df.Country==i,[\"Year\" ,\"Country\",\"Population\"]]\n",
    "    Temp_array=Temp_array.sort_values(\"Year\",ascending=False)\n",
    "    Temp_array.index=range(1,len(Temp_array)+1)\n",
    "    for i in range(1,len(Temp_array)-1):\n",
    "        Pop_Now=Temp_array.Population[i]\n",
    "        Pop_Last=Temp_array.Population[i+1]\n",
    "        Year_Now=Temp_array.Year[i]\n",
    "        Year_last=Temp_array.Year[i+1]\n",
    "        total= total+ ( (Pop_Now / Pop_Last )-1)*(Year_Now-Year_last)\n",
    "    total=(total/(Temp_array.Year[1] -Temp_array.Year[len(Temp_array)]))*100\n",
    "    Grow_rate.append(total)\n",
    "Aver_Grow_rate=pd.DataFrame(data=Country_array,columns=['Country'])\n",
    "Temp1=pd.DataFrame(data=Grow_rate,columns=[\"Average Population growth rate\"])\n",
    "Aver_Grow_rate=pd.concat([Aver_Grow_rate,Temp1],axis=1)\n",
    "print(Aver_Grow_rate.head(5))"
   ]
  },
  {
   "cell_type": "markdown",
   "metadata": {},
   "source": [
    "- The most/least populous country in area in each year"
   ]
  },
  {
   "cell_type": "code",
   "execution_count": 15,
   "metadata": {},
   "outputs": [
    {
     "name": "stdout",
     "output_type": "stream",
     "text": [
      "The most populous country: trung-quoc\n",
      "The least populous country: saint-pierre-va-miquelon\n"
     ]
    }
   ],
   "source": [
    "year_arr=np.sort(year_arr)\n",
    "Max_Population=[]\n",
    "Min_Population=[]\n",
    "for i in year_arr:\n",
    "    Data_Population=df.loc[df.Year==i,[\"Country\",\"Population\" ]]\n",
    "    Data_Population=Data_Population.sort_values(\"Population\",ascending=False)\n",
    "    Data_Population.index=range(1,len(Data_Population)+1)\n",
    "    if Data_Population.Country[1] not in Max_Population:\n",
    "        Max_Population.append(Data_Population.Country[1]) \n",
    "    if Data_Population.Country[len(Data_Population)] not in  Min_Population:\n",
    "        Min_Population.append(Data_Population.Country[len(Data_Population)])\n",
    "\n",
    "print(\"The most populous country: \" , end=\"\")\n",
    "for i in Max_Population:\n",
    "    print(i)\n",
    "print(\"The least populous country: \" , end=\"\")\n",
    "for i in Min_Population:\n",
    "    print(i)"
   ]
  },
  {
   "cell_type": "markdown",
   "metadata": {},
   "source": [
    "- Calculate average population of countries in a period"
   ]
  },
  {
   "cell_type": "code",
   "execution_count": 16,
   "metadata": {},
   "outputs": [
    {
     "name": "stdout",
     "output_type": "stream",
     "text": [
      "               Population\n",
      "Country                  \n",
      "a-rap-xe-ut  1.974312e+07\n",
      "afghanistan  2.237552e+07\n",
      "an-do        9.649575e+08\n",
      "armenia      2.822521e+06\n",
      "azerbaijan   7.530070e+06\n"
     ]
    }
   ],
   "source": [
    "Ave_Population=df[[\"Country\",\"Population\"]]\n",
    "Ave_Population=Ave_Population.groupby(\"Country\").mean()\n",
    "print(Ave_Population.head(5))"
   ]
  },
  {
   "attachments": {},
   "cell_type": "markdown",
   "metadata": {},
   "source": [
    "## BUILDING MODEL\n",
    "---"
   ]
  },
  {
   "cell_type": "markdown",
   "metadata": {},
   "source": [
    "#### Step 1: Let's explore some infomations from data of column population and year of the data frame before bulding model.\n",
    "\n",
    "Choice the bermuda country for some explores."
   ]
  },
  {
   "cell_type": "code",
   "execution_count": 17,
   "metadata": {},
   "outputs": [
    {
     "data": {
      "text/html": [
       "<div>\n",
       "<style scoped>\n",
       "    .dataframe tbody tr th:only-of-type {\n",
       "        vertical-align: middle;\n",
       "    }\n",
       "\n",
       "    .dataframe tbody tr th {\n",
       "        vertical-align: top;\n",
       "    }\n",
       "\n",
       "    .dataframe thead th {\n",
       "        text-align: right;\n",
       "    }\n",
       "</style>\n",
       "<table border=\"1\" class=\"dataframe\">\n",
       "  <thead>\n",
       "    <tr style=\"text-align: right;\">\n",
       "      <th></th>\n",
       "      <th>Country</th>\n",
       "      <th>Year</th>\n",
       "      <th>Population</th>\n",
       "      <th>Change</th>\n",
       "      <th>Migrate</th>\n",
       "      <th>Urban_resident</th>\n",
       "    </tr>\n",
       "  </thead>\n",
       "  <tbody>\n",
       "    <tr>\n",
       "      <th>0</th>\n",
       "      <td>bermuda</td>\n",
       "      <td>2019</td>\n",
       "      <td>62506</td>\n",
       "      <td>-250</td>\n",
       "      <td>1250</td>\n",
       "      <td>60833</td>\n",
       "    </tr>\n",
       "    <tr>\n",
       "      <th>1</th>\n",
       "      <td>bermuda</td>\n",
       "      <td>2018</td>\n",
       "      <td>62756</td>\n",
       "      <td>-293</td>\n",
       "      <td>1255</td>\n",
       "      <td>61070</td>\n",
       "    </tr>\n",
       "    <tr>\n",
       "      <th>2</th>\n",
       "      <td>bermuda</td>\n",
       "      <td>2017</td>\n",
       "      <td>63049</td>\n",
       "      <td>-313</td>\n",
       "      <td>1261</td>\n",
       "      <td>61349</td>\n",
       "    </tr>\n",
       "    <tr>\n",
       "      <th>3</th>\n",
       "      <td>bermuda</td>\n",
       "      <td>2016</td>\n",
       "      <td>63362</td>\n",
       "      <td>-330</td>\n",
       "      <td>1267</td>\n",
       "      <td>61666</td>\n",
       "    </tr>\n",
       "    <tr>\n",
       "      <th>4</th>\n",
       "      <td>bermuda</td>\n",
       "      <td>2015</td>\n",
       "      <td>63692</td>\n",
       "      <td>-339</td>\n",
       "      <td>1274</td>\n",
       "      <td>62003</td>\n",
       "    </tr>\n",
       "    <tr>\n",
       "      <th>5</th>\n",
       "      <td>bermuda</td>\n",
       "      <td>2010</td>\n",
       "      <td>65389</td>\n",
       "      <td>-174</td>\n",
       "      <td>1308</td>\n",
       "      <td>63956</td>\n",
       "    </tr>\n",
       "    <tr>\n",
       "      <th>6</th>\n",
       "      <td>bermuda</td>\n",
       "      <td>2005</td>\n",
       "      <td>66257</td>\n",
       "      <td>249</td>\n",
       "      <td>1325</td>\n",
       "      <td>65130</td>\n",
       "    </tr>\n",
       "    <tr>\n",
       "      <th>7</th>\n",
       "      <td>bermuda</td>\n",
       "      <td>2000</td>\n",
       "      <td>65012</td>\n",
       "      <td>314</td>\n",
       "      <td>1300</td>\n",
       "      <td>64028</td>\n",
       "    </tr>\n",
       "    <tr>\n",
       "      <th>8</th>\n",
       "      <td>bermuda</td>\n",
       "      <td>1995</td>\n",
       "      <td>63442</td>\n",
       "      <td>362</td>\n",
       "      <td>1269</td>\n",
       "      <td>62696</td>\n",
       "    </tr>\n",
       "    <tr>\n",
       "      <th>9</th>\n",
       "      <td>bermuda</td>\n",
       "      <td>1990</td>\n",
       "      <td>61634</td>\n",
       "      <td>406</td>\n",
       "      <td>1233</td>\n",
       "      <td>60930</td>\n",
       "    </tr>\n",
       "    <tr>\n",
       "      <th>10</th>\n",
       "      <td>bermuda</td>\n",
       "      <td>1985</td>\n",
       "      <td>59602</td>\n",
       "      <td>406</td>\n",
       "      <td>1192</td>\n",
       "      <td>58920</td>\n",
       "    </tr>\n",
       "    <tr>\n",
       "      <th>11</th>\n",
       "      <td>bermuda</td>\n",
       "      <td>1980</td>\n",
       "      <td>57573</td>\n",
       "      <td>435</td>\n",
       "      <td>1151</td>\n",
       "      <td>56992</td>\n",
       "    </tr>\n",
       "    <tr>\n",
       "      <th>12</th>\n",
       "      <td>bermuda</td>\n",
       "      <td>1975</td>\n",
       "      <td>55400</td>\n",
       "      <td>567</td>\n",
       "      <td>1108</td>\n",
       "      <td>54990</td>\n",
       "    </tr>\n",
       "    <tr>\n",
       "      <th>13</th>\n",
       "      <td>bermuda</td>\n",
       "      <td>1970</td>\n",
       "      <td>52565</td>\n",
       "      <td>635</td>\n",
       "      <td>1051</td>\n",
       "      <td>52286</td>\n",
       "    </tr>\n",
       "    <tr>\n",
       "      <th>14</th>\n",
       "      <td>bermuda</td>\n",
       "      <td>1965</td>\n",
       "      <td>49388</td>\n",
       "      <td>882</td>\n",
       "      <td>988</td>\n",
       "      <td>40755</td>\n",
       "    </tr>\n",
       "    <tr>\n",
       "      <th>15</th>\n",
       "      <td>bermuda</td>\n",
       "      <td>1960</td>\n",
       "      <td>44979</td>\n",
       "      <td>854</td>\n",
       "      <td>900</td>\n",
       "      <td>44946</td>\n",
       "    </tr>\n",
       "    <tr>\n",
       "      <th>16</th>\n",
       "      <td>bermuda</td>\n",
       "      <td>1955</td>\n",
       "      <td>40708</td>\n",
       "      <td>690</td>\n",
       "      <td>814</td>\n",
       "      <td>40708</td>\n",
       "    </tr>\n",
       "    <tr>\n",
       "      <th>17</th>\n",
       "      <td>bermuda</td>\n",
       "      <td>2020</td>\n",
       "      <td>62278</td>\n",
       "      <td>-283</td>\n",
       "      <td>1246</td>\n",
       "      <td>60639</td>\n",
       "    </tr>\n",
       "  </tbody>\n",
       "</table>\n",
       "</div>"
      ],
      "text/plain": [
       "    Country  Year  Population  Change  Migrate  Urban_resident\n",
       "0   bermuda  2019       62506    -250     1250           60833\n",
       "1   bermuda  2018       62756    -293     1255           61070\n",
       "2   bermuda  2017       63049    -313     1261           61349\n",
       "3   bermuda  2016       63362    -330     1267           61666\n",
       "4   bermuda  2015       63692    -339     1274           62003\n",
       "5   bermuda  2010       65389    -174     1308           63956\n",
       "6   bermuda  2005       66257     249     1325           65130\n",
       "7   bermuda  2000       65012     314     1300           64028\n",
       "8   bermuda  1995       63442     362     1269           62696\n",
       "9   bermuda  1990       61634     406     1233           60930\n",
       "10  bermuda  1985       59602     406     1192           58920\n",
       "11  bermuda  1980       57573     435     1151           56992\n",
       "12  bermuda  1975       55400     567     1108           54990\n",
       "13  bermuda  1970       52565     635     1051           52286\n",
       "14  bermuda  1965       49388     882      988           40755\n",
       "15  bermuda  1960       44979     854      900           44946\n",
       "16  bermuda  1955       40708     690      814           40708\n",
       "17  bermuda  2020       62278    -283     1246           60639"
      ]
     },
     "execution_count": 17,
     "metadata": {},
     "output_type": "execute_result"
    }
   ],
   "source": [
    "bermudaInfo = df.loc[df.Country == 'bermuda']\n",
    "bermudaInfo"
   ]
  },
  {
   "cell_type": "code",
   "execution_count": 18,
   "metadata": {},
   "outputs": [
    {
     "data": {
      "text/html": [
       "<div>\n",
       "<style scoped>\n",
       "    .dataframe tbody tr th:only-of-type {\n",
       "        vertical-align: middle;\n",
       "    }\n",
       "\n",
       "    .dataframe tbody tr th {\n",
       "        vertical-align: top;\n",
       "    }\n",
       "\n",
       "    .dataframe thead th {\n",
       "        text-align: right;\n",
       "    }\n",
       "</style>\n",
       "<table border=\"1\" class=\"dataframe\">\n",
       "  <thead>\n",
       "    <tr style=\"text-align: right;\">\n",
       "      <th></th>\n",
       "      <th>Year</th>\n",
       "      <th>Population</th>\n",
       "    </tr>\n",
       "  </thead>\n",
       "  <tbody>\n",
       "    <tr>\n",
       "      <th>0</th>\n",
       "      <td>2019</td>\n",
       "      <td>62506</td>\n",
       "    </tr>\n",
       "    <tr>\n",
       "      <th>1</th>\n",
       "      <td>2018</td>\n",
       "      <td>62756</td>\n",
       "    </tr>\n",
       "    <tr>\n",
       "      <th>2</th>\n",
       "      <td>2017</td>\n",
       "      <td>63049</td>\n",
       "    </tr>\n",
       "    <tr>\n",
       "      <th>3</th>\n",
       "      <td>2016</td>\n",
       "      <td>63362</td>\n",
       "    </tr>\n",
       "    <tr>\n",
       "      <th>4</th>\n",
       "      <td>2015</td>\n",
       "      <td>63692</td>\n",
       "    </tr>\n",
       "    <tr>\n",
       "      <th>5</th>\n",
       "      <td>2010</td>\n",
       "      <td>65389</td>\n",
       "    </tr>\n",
       "    <tr>\n",
       "      <th>6</th>\n",
       "      <td>2005</td>\n",
       "      <td>66257</td>\n",
       "    </tr>\n",
       "    <tr>\n",
       "      <th>7</th>\n",
       "      <td>2000</td>\n",
       "      <td>65012</td>\n",
       "    </tr>\n",
       "    <tr>\n",
       "      <th>8</th>\n",
       "      <td>1995</td>\n",
       "      <td>63442</td>\n",
       "    </tr>\n",
       "    <tr>\n",
       "      <th>9</th>\n",
       "      <td>1990</td>\n",
       "      <td>61634</td>\n",
       "    </tr>\n",
       "    <tr>\n",
       "      <th>10</th>\n",
       "      <td>1985</td>\n",
       "      <td>59602</td>\n",
       "    </tr>\n",
       "    <tr>\n",
       "      <th>11</th>\n",
       "      <td>1980</td>\n",
       "      <td>57573</td>\n",
       "    </tr>\n",
       "    <tr>\n",
       "      <th>12</th>\n",
       "      <td>1975</td>\n",
       "      <td>55400</td>\n",
       "    </tr>\n",
       "    <tr>\n",
       "      <th>13</th>\n",
       "      <td>1970</td>\n",
       "      <td>52565</td>\n",
       "    </tr>\n",
       "    <tr>\n",
       "      <th>14</th>\n",
       "      <td>1965</td>\n",
       "      <td>49388</td>\n",
       "    </tr>\n",
       "    <tr>\n",
       "      <th>15</th>\n",
       "      <td>1960</td>\n",
       "      <td>44979</td>\n",
       "    </tr>\n",
       "    <tr>\n",
       "      <th>16</th>\n",
       "      <td>1955</td>\n",
       "      <td>40708</td>\n",
       "    </tr>\n",
       "    <tr>\n",
       "      <th>17</th>\n",
       "      <td>2020</td>\n",
       "      <td>62278</td>\n",
       "    </tr>\n",
       "  </tbody>\n",
       "</table>\n",
       "</div>"
      ],
      "text/plain": [
       "    Year  Population\n",
       "0   2019       62506\n",
       "1   2018       62756\n",
       "2   2017       63049\n",
       "3   2016       63362\n",
       "4   2015       63692\n",
       "5   2010       65389\n",
       "6   2005       66257\n",
       "7   2000       65012\n",
       "8   1995       63442\n",
       "9   1990       61634\n",
       "10  1985       59602\n",
       "11  1980       57573\n",
       "12  1975       55400\n",
       "13  1970       52565\n",
       "14  1965       49388\n",
       "15  1960       44979\n",
       "16  1955       40708\n",
       "17  2020       62278"
      ]
     },
     "execution_count": 18,
     "metadata": {},
     "output_type": "execute_result"
    }
   ],
   "source": [
    "bermudaInfo1 = bermudaInfo[['Year','Population']]\n",
    "bermudaInfo1"
   ]
  },
  {
   "cell_type": "markdown",
   "metadata": {},
   "source": [
    "Type of data."
   ]
  },
  {
   "cell_type": "code",
   "execution_count": null,
   "metadata": {},
   "outputs": [
    {
     "name": "stdout",
     "output_type": "stream",
     "text": [
      "<class 'pandas.core.frame.DataFrame'>\n",
      "Int64Index: 18 entries, 16 to 17\n",
      "Data columns (total 2 columns):\n",
      " #   Column      Non-Null Count  Dtype\n",
      "---  ------      --------------  -----\n",
      " 0   Year        18 non-null     int64\n",
      " 1   Population  18 non-null     int64\n",
      "dtypes: int64(2)\n",
      "memory usage: 432.0 bytes\n"
     ]
    }
   ],
   "source": [
    "bermudaInfo1 = bermudaInfo1.sort_values('Year')\n",
    "bermudaInfo1.info()"
   ]
  },
  {
   "cell_type": "markdown",
   "metadata": {},
   "source": [
    "Find some importion values of population and year in bermuda country."
   ]
  },
  {
   "cell_type": "code",
   "execution_count": null,
   "metadata": {},
   "outputs": [
    {
     "data": {
      "text/html": [
       "<div>\n",
       "<style scoped>\n",
       "    .dataframe tbody tr th:only-of-type {\n",
       "        vertical-align: middle;\n",
       "    }\n",
       "\n",
       "    .dataframe tbody tr th {\n",
       "        vertical-align: top;\n",
       "    }\n",
       "\n",
       "    .dataframe thead th {\n",
       "        text-align: right;\n",
       "    }\n",
       "</style>\n",
       "<table border=\"1\" class=\"dataframe\">\n",
       "  <thead>\n",
       "    <tr style=\"text-align: right;\">\n",
       "      <th></th>\n",
       "      <th>Year</th>\n",
       "      <th>Population</th>\n",
       "    </tr>\n",
       "  </thead>\n",
       "  <tbody>\n",
       "    <tr>\n",
       "      <th>count</th>\n",
       "      <td>18.000000</td>\n",
       "      <td>18.000000</td>\n",
       "    </tr>\n",
       "    <tr>\n",
       "      <th>mean</th>\n",
       "      <td>1994.166667</td>\n",
       "      <td>58866.222222</td>\n",
       "    </tr>\n",
       "    <tr>\n",
       "      <th>std</th>\n",
       "      <td>22.350813</td>\n",
       "      <td>7399.920783</td>\n",
       "    </tr>\n",
       "    <tr>\n",
       "      <th>min</th>\n",
       "      <td>1955.000000</td>\n",
       "      <td>40708.000000</td>\n",
       "    </tr>\n",
       "    <tr>\n",
       "      <th>25%</th>\n",
       "      <td>1976.250000</td>\n",
       "      <td>55943.250000</td>\n",
       "    </tr>\n",
       "    <tr>\n",
       "      <th>50%</th>\n",
       "      <td>1997.500000</td>\n",
       "      <td>62392.000000</td>\n",
       "    </tr>\n",
       "    <tr>\n",
       "      <th>75%</th>\n",
       "      <td>2015.750000</td>\n",
       "      <td>63422.000000</td>\n",
       "    </tr>\n",
       "    <tr>\n",
       "      <th>max</th>\n",
       "      <td>2020.000000</td>\n",
       "      <td>66257.000000</td>\n",
       "    </tr>\n",
       "  </tbody>\n",
       "</table>\n",
       "</div>"
      ],
      "text/plain": [
       "              Year    Population\n",
       "count    18.000000     18.000000\n",
       "mean   1994.166667  58866.222222\n",
       "std      22.350813   7399.920783\n",
       "min    1955.000000  40708.000000\n",
       "25%    1976.250000  55943.250000\n",
       "50%    1997.500000  62392.000000\n",
       "75%    2015.750000  63422.000000\n",
       "max    2020.000000  66257.000000"
      ]
     },
     "execution_count": 34,
     "metadata": {},
     "output_type": "execute_result"
    }
   ],
   "source": [
    "bermudaInfo1.describe()"
   ]
  },
  {
   "cell_type": "markdown",
   "metadata": {},
   "source": [
    "Visualize the data of bermuda country."
   ]
  },
  {
   "cell_type": "code",
   "execution_count": null,
   "metadata": {},
   "outputs": [
    {
     "data": {
      "image/png": "[encoded data removed]",
      "text/plain": [
       "<Figure size 640x480 with 1 Axes>"
      ]
     },
     "metadata": {},
     "output_type": "display_data"
    }
   ],
   "source": [
    "plt.style.use('seaborn-whitegrid')\n",
    "xIndex = np.array(bermudaInfo1.Year)\n",
    "xIndex = [i for i in xIndex]\n",
    "yIndex = np.array(bermudaInfo1.Population)\n",
    "yIndex = [j for j in yIndex]\n",
    "\n",
    "plt.plot(xIndex,yIndex, color = 'blue');\n",
    "plt.title(f\"Population of Bermuda country\")\n",
    "plt.xlabel(\"Year\");\n",
    "plt.ylabel(\"Population\");"
   ]
  },
  {
   "cell_type": "markdown",
   "metadata": {},
   "source": [
    "#### Step 2: After exploring we start finding insight of data given and build model."
   ]
  },
  {
   "cell_type": "markdown",
   "metadata": {},
   "source": [
    "##### - We will build the model that can predict population of the country in the future and we use linear regression method to build."
   ]
  },
  {
   "cell_type": "markdown",
   "metadata": {},
   "source": [
    "- Using model: `y = a_0*x^0 + a_1*x^1 + ..... + a_n*x^n.`\n",
    "\n",
    "- Caculate a (a_0, a_1, .... a_n) by using the formula: `(A^T * A)^-1 * A^T *B.`\n",
    "\n",
    "        With:\n",
    "            A = [theta_0...theta_n]  :list years.\n",
    "                [theta_0...theta_n]\n",
    "                [  .         .    ]\n",
    "                [  .         .    ]\n",
    "                [theta_0...theta_n]\n",
    "            Size of A: m nows x n + 1 columns.\n",
    "            Ex: If we have list years: 2011 2012 2013 2014 (m = 4) and n is 2, A will be:\n",
    "                [2011^0 2011^1 2011^2]\n",
    "                [2012^0 2012^1 2012^2]\n",
    "                [2013^0 2013^1 2013^2]\n",
    "                [2014^0 2014^1 2014^2]\n",
    "\n",
    "            B = [y0]  :list values of field.\n",
    "                [y1]\n",
    "                [. ]\n",
    "                [. ]\n",
    "                [yn]\n",
    "            Size of B: m nows x 1 columns.\n",
    "            Ex: If we have list years: 2011 2012 2013 2014 and population for each year is: 100 200 300 400 (m = 4), B will be:\n",
    "                [100]\n",
    "                [200]\n",
    "                [300]\n",
    "                [400]\n",
    "                    \n",
    "- Calculate the residual value using the formula: `||r|| = ||A*x – B||.`\n",
    "\n",
    "        With:\n",
    "            x = (A^T * A)^-1 * A^T *B\n",
    "              = [a_0]\n",
    "                [a_1]\n",
    "                [ . ]\n",
    "                [ . ]\n",
    "                [a_n]"
   ]
  },
  {
   "attachments": {},
   "cell_type": "markdown",
   "metadata": {},
   "source": [
    "#### Build model."
   ]
  },
  {
   "attachments": {},
   "cell_type": "markdown",
   "metadata": {},
   "source": [
    "- Prepare data for caculation by the way give list values of field and year from data frame.</br>\n",
    "    - Input: data frame, name of country and field of data you want to predict.</br>\n",
    "    - Output: data for predict processing.</br>"
   ]
  },
  {
   "cell_type": "code",
   "execution_count": 32,
   "metadata": {},
   "outputs": [],
   "source": [
    "def prepareDataForCalculate(country,dataFrame,field):\n",
    "    countryInfo = dataFrame.loc[(dataFrame.Country == country),['Year',field]]\n",
    "    countryInfo = countryInfo.sort_values('Year')\n",
    "    # Change data for suitable to caculate\n",
    "    xIndex = np.array(countryInfo.Year)\n",
    "    yIndex = np.array(countryInfo[field])\n",
    "   \n",
    "    return xIndex, yIndex"
   ]
  },
  {
   "attachments": {},
   "cell_type": "markdown",
   "metadata": {},
   "source": [
    "- Give data and remake data for using formula to caculate meaningful values.</br>\n",
    "    - Input: data for processing and max pow of x varible in function f(x).</br>\n",
    "    - Output: vecter A, vecter B and thetahat vecter for caculate the residual value of model.</br>"
   ]
  },
  {
   "cell_type": "code",
   "execution_count": 33,
   "metadata": {},
   "outputs": [],
   "source": [
    "def calValueForModel(xIndex,yIndex,powN):\n",
    "    powN = int(powN)\n",
    "    size = len(xIndex)\n",
    "    A = xIndex.reshape(-1,1)\n",
    "    root = np.copy(A)\n",
    "    x0Index = np.ones(len(xIndex))\n",
    "\n",
    "    x0Index= x0Index.reshape(-1,1)\n",
    "    A = np.append(x0Index,A,axis=1)\n",
    "\n",
    "    yIndex = yIndex.reshape(-1,1)\n",
    "\n",
    "    for i in range(2,powN+1):\n",
    "        xJ = np.ones(size)\n",
    "        xJ = xJ.reshape(-1,1)\n",
    "        for j in range(i):\n",
    "            xJ = np.array(xJ*root)\n",
    "        A = np.append(A,xJ,axis=1)\n",
    "\n",
    "    B = np.array(yIndex)\n",
    "    # Caculate parameters\n",
    "    thetaHat = np.linalg.inv(A.T@A)@(A.T@B)\n",
    "    return A,B, thetaHat"
   ]
  },
  {
   "attachments": {},
   "cell_type": "markdown",
   "metadata": {},
   "source": [
    "- Caculate the residual value of model\n",
    "    - Input: vecter A, vecter B and thetahat vecter.\n",
    "    - Output: the residual value of model."
   ]
  },
  {
   "cell_type": "code",
   "execution_count": 34,
   "metadata": {},
   "outputs": [],
   "source": [
    "def caculateNormR(A, B, thetaHat):\n",
    "    R = np.linalg.norm(A@thetaHat - B)\n",
    "    return R"
   ]
  },
  {
   "attachments": {},
   "cell_type": "markdown",
   "metadata": {},
   "source": [
    "- Build model by using functions had been built. Main point is find R and x that is mention of formula."
   ]
  },
  {
   "cell_type": "code",
   "execution_count": 35,
   "metadata": {},
   "outputs": [],
   "source": [
    "def buildModelField(country,dataFrame,field,powN):\n",
    "    xIndex, yIndex = prepareDataForCalculate(country,dataFrame,field)\n",
    "    A,B, thetaHat = calValueForModel(xIndex,yIndex,powN)\n",
    "    R = caculateNormR(A, B, thetaHat)\n",
    "    return thetaHat, R"
   ]
  },
  {
   "attachments": {},
   "cell_type": "markdown",
   "metadata": {},
   "source": [
    "#### Find the best model."
   ]
  },
  {
   "attachments": {},
   "cell_type": "markdown",
   "metadata": {},
   "source": [
    "- Find the best rank of model when using maximum of n is 45, that is decision by residual value (R). So, the target of \n",
    "this function is finding minimum R then return the rank at minimum R."
   ]
  },
  {
   "cell_type": "code",
   "execution_count": 36,
   "metadata": {},
   "outputs": [],
   "source": [
    "def findTheBestNForMinRField(country,field,dataFrame):\n",
    "    # The maximum size that computer can caculate. \n",
    "    maxSize = 45\n",
    "    rArray = []\n",
    "    for i in range(maxSize):\n",
    "        theta, R = buildModelField(country,dataFrame,field,i)\n",
    "        rArray.append(R)\n",
    "    rArray = np.array(rArray)\n",
    "    minValue = np.amin(rArray)\n",
    "    minPos = np.where(rArray == minValue)\n",
    "    minPos = np.amin(minPos)\n",
    "\n",
    "    return minPos, minValue"
   ]
  },
  {
   "attachments": {},
   "cell_type": "markdown",
   "metadata": {},
   "source": [
    "- Print infomation of field you want to predict and give some evaluations about model will be built."
   ]
  },
  {
   "cell_type": "code",
   "execution_count": 37,
   "metadata": {},
   "outputs": [],
   "source": [
    "def printInfoField(country,field,powN,minR):\n",
    "    print(f\"Predict {field} for {country} country.\")\n",
    "    print(f\"The minimum value of R is: {minR}, and N (maximum power of x) is: {powN}.\")\n",
    "    print(f\"The above information means that the {field} deviation when using the X^({powN}) model to predict is from real data.\")"
   ]
  },
  {
   "attachments": {},
   "cell_type": "markdown",
   "metadata": {},
   "source": [
    "- Caculate value of y (the function given initially) after finding all variable.\n",
    "    - Input: list of year, array of thetahat vecter.\n",
    "    - Output: value of y."
   ]
  },
  {
   "cell_type": "code",
   "execution_count": 38,
   "metadata": {},
   "outputs": [],
   "source": [
    "def caculateFieldForYear(array,year):\n",
    "    arrayUse = array.reshape(-1)\n",
    "    yearUse = float(year)\n",
    "    temp = np.copy(arrayUse[0])\n",
    "    sumP  = temp\n",
    "    for i in range(1,len(arrayUse)):\n",
    "        sumP = sumP + float((np.power(yearUse,i))*float(arrayUse[i]))\n",
    "    return sumP"
   ]
  },
  {
   "attachments": {},
   "cell_type": "markdown",
   "metadata": {},
   "source": [
    "- Predict field base on model. Using functions having been built, step by step create model and then caculate value."
   ]
  },
  {
   "cell_type": "code",
   "execution_count": 39,
   "metadata": {},
   "outputs": [],
   "source": [
    "def predictField(country,field,dataFrame,year,powN):\n",
    "    theta, R = buildModelField(country,dataFrame,field,powN)\n",
    "    large = round(caculateFieldForYear(theta,year))\n",
    "    print(f\"- The {field} of {country} in {year} is: {float(large)}, the residual is: {R}.\")"
   ]
  },
  {
   "attachments": {},
   "cell_type": "markdown",
   "metadata": {},
   "source": [
    "- Visualize for comparing predict model had been built with real data. "
   ]
  },
  {
   "cell_type": "code",
   "execution_count": 40,
   "metadata": {},
   "outputs": [],
   "source": [
    "def compareModelWithRealData(array,listYear,listYReal, countryName):\n",
    "    array = array.reshape(-1)\n",
    "    listPop = np.zeros(len(listYear))\n",
    "    temp = np.copy(array[0])\n",
    "\n",
    "    for index in range(len(listYear)):\n",
    "        sumPop = temp\n",
    "        for i in range(1,len(array)):\n",
    "            sumPop = sumPop + float(np.power(listYear[index],i)*float(array[i]))\n",
    "        listPop[index] = sumPop\n",
    "        \n",
    "    plt.plot(listYear,listPop, color = 'red', label = 'Predict model.');\n",
    "    plt.plot(listYear,listYReal, color = 'blue', label = 'Real data.');\n",
    "    plt.xlabel(\"Year\");\n",
    "    plt.ylabel(\"Population\");\n",
    "    plt.title(f\"Comprare chart of {countryName} country\")\n",
    "    plt.legend(); "
   ]
  },
  {
   "attachments": {},
   "cell_type": "markdown",
   "metadata": {},
   "source": [
    "- Synthetic informations for comparing predict model with real data.  "
   ]
  },
  {
   "cell_type": "code",
   "execution_count": 41,
   "metadata": {},
   "outputs": [],
   "source": [
    "def compareFieldWithRealData(country,field,dataFrame,powN):\n",
    "    listX, listY = prepareDataForCalculate(country,dataFrame,field)\n",
    "    theta, R = buildModelField(country,dataFrame,field,powN)\n",
    "    compareModelWithRealData(theta,listX,listY,country)\n"
   ]
  },
  {
   "attachments": {},
   "cell_type": "markdown",
   "metadata": {},
   "source": [
    "##### Testing model."
   ]
  },
  {
   "attachments": {},
   "cell_type": "markdown",
   "metadata": {},
   "source": [
    "- Prepare data."
   ]
  },
  {
   "cell_type": "code",
   "execution_count": 42,
   "metadata": {},
   "outputs": [
    {
     "data": {
      "text/plain": [
       "['Country', 'Year', 'Population', 'Change', 'Migrate', 'Urban_resident']"
      ]
     },
     "execution_count": 42,
     "metadata": {},
     "output_type": "execute_result"
    }
   ],
   "source": [
    "listField = list(df.columns)\n",
    "listField"
   ]
  },
  {
   "cell_type": "code",
   "execution_count": 43,
   "metadata": {},
   "outputs": [
    {
     "name": "stdout",
     "output_type": "stream",
     "text": [
      "['bermuda', 'canada', 'greenland', 'hoa-ky', 'saint-pierre-va-miquelon', 'a-rap-xe-ut', 'afghanistan', 'an-do', 'armenia', 'azerbaijan', 'bahrain', 'bangladesh', 'bhutan', 'brunei', 'cac-tieu-vuong-quoc-a-rap-thong-nhat', 'campuchia', 'cong-hoa-sip', 'dai-loan', 'dong-timo', 'georgia', 'han-quoc', 'hong-kong', 'indonesia', 'iran', 'iraq', 'israel', 'jordan', 'kazakhstan', 'kuwait', 'kyrgyzstan', 'lao', 'lebanon', 'ma-cao', 'malaysia', 'maldives', 'mong-co', 'myanmar', 'nepal', 'nhat-ban', 'oman', 'pakistan', 'palestine', 'philippines', 'qatar', 'singapore', 'sri-lanka', 'syria', 'tajikistan', 'thai-lan', 'tho-nhi-ky', 'trieu-tien', 'trung-quoc', 'turkmenistan', 'uzbekistan', 'viet-nam', 'yemen']\n"
     ]
    }
   ],
   "source": [
    "listCountry = df.Country.unique()\n",
    "listCountry = [i for i in listCountry]\n",
    "print(listCountry)"
   ]
  },
  {
   "cell_type": "markdown",
   "metadata": {},
   "source": [
    "Now, let's make some predictions with canada."
   ]
  },
  {
   "cell_type": "markdown",
   "metadata": {},
   "source": [
    "- Check the quality of the model."
   ]
  },
  {
   "cell_type": "code",
   "execution_count": 44,
   "metadata": {},
   "outputs": [
    {
     "name": "stdout",
     "output_type": "stream",
     "text": [
      "Predict Urban_resident for canada country.\n",
      "The minimum value of R is: 1007910.3885132923, and N (maximum power of x) is: 3.\n",
      "The above information means that the Urban_resident deviation when using the X^(3) model to predict is from real data.\n"
     ]
    }
   ],
   "source": [
    "powFieldValue, minRFieldValue = findTheBestNForMinRField(listCountry[1],listField[5],df)\n",
    "printInfoField(listCountry[1],listField[5],powFieldValue, minRFieldValue)"
   ]
  },
  {
   "cell_type": "markdown",
   "metadata": {},
   "source": [
    "- Predict population of canada in 2019."
   ]
  },
  {
   "cell_type": "code",
   "execution_count": 45,
   "metadata": {},
   "outputs": [
    {
     "name": "stdout",
     "output_type": "stream",
     "text": [
      "- The Population of canada in 2019 is: 37408192.0, the residual is: 590098.2319877979.\n"
     ]
    }
   ],
   "source": [
    "predictYear = 2019\n",
    "predictField(listCountry[1],listField[2],df,predictYear,powFieldValue)"
   ]
  },
  {
   "cell_type": "markdown",
   "metadata": {},
   "source": [
    "- Compare real data with predict's model data."
   ]
  },
  {
   "cell_type": "code",
   "execution_count": 46,
   "metadata": {},
   "outputs": [
    {
     "data": {
      "image/png": "[encoded data removed]",
      "text/plain": [
       "<Figure size 640x480 with 1 Axes>"
      ]
     },
     "metadata": {},
     "output_type": "display_data"
    }
   ],
   "source": [
    "compareFieldWithRealData(listCountry[1],listField[2],df,powFieldValue)"
   ]
  }
 ],
 "metadata": {
  "kernelspec": {
   "display_name": "Python 3.9.7 ('base')",
   "language": "python",
   "name": "python3"
  },
  "language_info": {
   "codemirror_mode": {
    "name": "ipython",
    "version": 3
   },
   "file_extension": ".py",
   "mimetype": "text/x-python",
   "name": "python",
   "nbconvert_exporter": "python",
   "pygments_lexer": "ipython3",
   "version": "3.9.7"
  },
  "orig_nbformat": 4,
  "vscode": {
   "interpreter": {
    "hash": "88279d2366fe020547cde40dd65aa0e3aa662a6ec1f3ca12d88834876c85e1a6"
   }
  }
 },
 "nbformat": 4,
 "nbformat_minor": 2
}
